{
 "cells": [
  {
   "cell_type": "code",
   "execution_count": 2,
   "metadata": {},
   "outputs": [],
   "source": [
    "%matplotlib inline\n",
    "import numpy as np\n",
    "import matplotlib.pyplot as plt\n",
    "from sympy import *\n",
    "init_printing(use_latex=True)"
   ]
  },
  {
   "cell_type": "markdown",
   "metadata": {},
   "source": [
    "# Predator-prey example"
   ]
  },
  {
   "cell_type": "code",
   "execution_count": 25,
   "metadata": {},
   "outputs": [
    {
     "data": {
      "image/png": "[encoded data removed]",
      "text/latex": [
       "$$\\left ( - 0.5 F R + 1.2 R, \\quad 1.5 F R - 1.0 F\\right )$$"
      ],
      "text/plain": [
       "(-0.5⋅F⋅R + 1.2⋅R, 1.5⋅F⋅R - 1.0⋅F)"
      ]
     },
     "execution_count": 25,
     "metadata": {},
     "output_type": "execute_result"
    }
   ],
   "source": [
    "a, b, c, d = 1.2, 0.5, 1.0, 1.5\n",
    "R, F = symbols('R,F')\n",
    "dRdt = a*R - b*R*F\n",
    "dFdt = -c*F + d*R*F\n",
    "dRdt, dFdt"
   ]
  },
  {
   "cell_type": "code",
   "execution_count": 26,
   "metadata": {},
   "outputs": [
    {
     "data": {
      "image/png": "[encoded data removed]",
      "text/latex": [
       "$$\\left ( -1.2, \\quad 15.0\\right )$$"
      ],
      "text/plain": [
       "(-1.2, 15.0)"
      ]
     },
     "execution_count": 26,
     "metadata": {},
     "output_type": "execute_result"
    }
   ],
   "source": [
    "Rval, Fval = 4,3\n",
    "dRdt.subs([(R,Rval),(F,Fval)]),dFdt.subs([(R,Rval),(F,Fval)])"
   ]
  },
  {
   "cell_type": "code",
   "execution_count": 28,
   "metadata": {},
   "outputs": [
    {
     "data": {
      "image/png": "[encoded data removed]",
      "text/latex": [
       "$$\\left ( 3.5, \\quad 6.5\\right )$$"
      ],
      "text/plain": [
       "(3.5, 6.5)"
      ]
     },
     "execution_count": 28,
     "metadata": {},
     "output_type": "execute_result"
    }
   ],
   "source": [
    "Rval, Fval = 5,1\n",
    "dRdt.subs([(R,Rval),(F,Fval)]),dFdt.subs([(R,Rval),(F,Fval)])"
   ]
  },
  {
   "cell_type": "code",
   "execution_count": null,
   "metadata": {},
   "outputs": [],
   "source": []
  }
 ],
 "metadata": {
  "kernelspec": {
   "display_name": "Python 3",
   "language": "python",
   "name": "python3"
  },
  "language_info": {
   "codemirror_mode": {
    "name": "ipython",
    "version": 3
   },
   "file_extension": ".py",
   "mimetype": "text/x-python",
   "name": "python",
   "nbconvert_exporter": "python",
   "pygments_lexer": "ipython3",
   "version": "3.6.4"
  }
 },
 "nbformat": 4,
 "nbformat_minor": 2
}
